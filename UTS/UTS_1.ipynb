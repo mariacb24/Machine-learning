{
 "cells": [
  {
   "cell_type": "code",
   "execution_count": null,
   "metadata": {},
   "outputs": [
    {
     "name": "stdout",
     "output_type": "stream",
     "text": [
      "         HARGA    LT   LB  JKT  JKM  GRS    KOTA\n",
      "0  28000000000  1100  700    5    6  ADA  JAKSEL\n",
      "1  19000000000   824  800    4    4  ADA  JAKSEL\n",
      "2   4700000000   500  400    4    3  ADA  JAKSEL\n",
      "3   4900000000   251  300    5    4  ADA  JAKSEL\n",
      "4  28000000000  1340  575    4    5  ADA  JAKSEL\n"
     ]
    }
   ],
   "source": [
    "import pandas as pd\n",
    "\n",
    "file_path = 'C:/Users/Nitro/Documents/Kuliah/Machine Learning/UTS/HARGA RUMAH JAKSEL.xlsx'\n",
    "data = pd.read_excel(file_path, engine='openpyxl')\n",
    "\n",
    "print(data.head())"
   ]
  },
  {
   "cell_type": "markdown",
   "metadata": {},
   "source": [
    "Label Encoding untuk ubah fitur kategorikal menjadi numerik pada kolom GRS"
   ]
  },
  {
   "cell_type": "code",
   "execution_count": 60,
   "metadata": {},
   "outputs": [
    {
     "name": "stdout",
     "output_type": "stream",
     "text": [
      "         HARGA    LT   LB  JKT  JKM  GRS    KOTA\n",
      "0  28000000000  1100  700    5    6    0  JAKSEL\n",
      "1  19000000000   824  800    4    4    0  JAKSEL\n",
      "2   4700000000   500  400    4    3    0  JAKSEL\n",
      "3   4900000000   251  300    5    4    0  JAKSEL\n",
      "4  28000000000  1340  575    4    5    0  JAKSEL\n"
     ]
    }
   ],
   "source": [
    "from sklearn.preprocessing import LabelEncoder\n",
    "\n",
    "label_encoder = LabelEncoder()\n",
    "data['GRS'] = label_encoder.fit_transform(data['GRS'])\n",
    "\n",
    "print(data.head())"
   ]
  },
  {
   "cell_type": "code",
   "execution_count": 61,
   "metadata": {},
   "outputs": [
    {
     "name": "stdout",
     "output_type": "stream",
     "text": [
      "         HARGA    LT   LB  JKT  JKM  GRS  KOTA\n",
      "0  28000000000  1100  700    5    6    0     0\n",
      "1  19000000000   824  800    4    4    0     0\n",
      "2   4700000000   500  400    4    3    0     0\n",
      "3   4900000000   251  300    5    4    0     0\n",
      "4  28000000000  1340  575    4    5    0     0\n"
     ]
    }
   ],
   "source": [
    "from sklearn.preprocessing import LabelEncoder\n",
    "\n",
    "label_encoder = LabelEncoder()\n",
    "data['KOTA'] = label_encoder.fit_transform(data['KOTA'])\n",
    "\n",
    "print(data.head())"
   ]
  },
  {
   "cell_type": "markdown",
   "metadata": {},
   "source": [
    "Normalisasi data dengan Min-Max Scaler dan Standardisasi (Z-Score Normalization)"
   ]
  },
  {
   "cell_type": "code",
   "execution_count": 62,
   "metadata": {},
   "outputs": [
    {
     "name": "stdout",
     "output_type": "stream",
     "text": [
      "      HARGA        LT        LB       JKT       JKM       GRS  KOTA\n",
      "0  0.506386  1.072891  0.469957  0.270741  1.082862 -0.533836   0.0\n",
      "1  0.073383  0.552926  0.690880 -0.228360  0.031509 -0.533836   0.0\n",
      "2 -0.614610 -0.057468 -0.192812 -0.228360 -0.494167 -0.533836   0.0\n",
      "3 -0.604987 -0.526568 -0.413736  0.270741  0.031509 -0.533836   0.0\n",
      "4  0.506386  1.525035  0.193803 -0.228360  0.557186 -0.533836   0.0\n"
     ]
    }
   ],
   "source": [
    "from sklearn.preprocessing import MinMaxScaler, StandardScaler\n",
    "\n",
    "scaler = MinMaxScaler()\n",
    "data[['HARGA','LT','LB','JKT','JKM','GRS','KOTA']] = scaler.fit_transform(data[['HARGA','LT','LB','JKT','JKM','GRS','KOTA']])\n",
    "\n",
    "scaler = StandardScaler()\n",
    "data[['HARGA','LT','LB','JKT','JKM','GRS','KOTA']] = scaler.fit_transform(data[['HARGA','LT','LB','JKT','JKM','GRS','KOTA']])\n",
    "\n",
    "print(data.head())"
   ]
  },
  {
   "cell_type": "code",
   "execution_count": null,
   "metadata": {},
   "outputs": [],
   "source": []
  },
  {
   "cell_type": "markdown",
   "metadata": {},
   "source": [
    "Implementasi Multiple Linear Regression"
   ]
  },
  {
   "cell_type": "code",
   "execution_count": 66,
   "metadata": {},
   "outputs": [
    {
     "name": "stdout",
     "output_type": "stream",
     "text": [
      "Multiple Linear Regression - R-squared: -0.03818624277572469\n",
      "Multiple Linear Regression - MSE: 0.994276769006132\n",
      "Multiple Linear Regression - RMSE: 0.9971342783227002\n"
     ]
    },
    {
     "name": "stderr",
     "output_type": "stream",
     "text": [
      "c:\\Users\\Nitro\\anaconda3\\Lib\\site-packages\\sklearn\\metrics\\_regression.py:492: FutureWarning: 'squared' is deprecated in version 1.4 and will be removed in 1.6. To calculate the root mean squared error, use the function'root_mean_squared_error'.\n",
      "  warnings.warn(\n"
     ]
    }
   ],
   "source": [
    "from sklearn.linear_model import LinearRegression\n",
    "from sklearn.model_selection import train_test_split\n",
    "from sklearn.metrics import mean_squared_error, mean_absolute_error, r2_score\n",
    "\n",
    "X = data[['HARGA', 'LT', 'LB', 'JKT', 'JKM']] \n",
    "y = data['GRS']  \n",
    "\n",
    "X_train, X_test, y_train, y_test = train_test_split(X, y, test_size=0.2, random_state=42)\n",
    "\n",
    "model_lr = LinearRegression()\n",
    "model_lr.fit(X_train, y_train)\n",
    "\n",
    "y_pred_lr = model_lr.predict(X_test)\n",
    "\n",
    "r2_lr = r2_score(y_test, y_pred_lr)\n",
    "mse_lr = mean_squared_error(y_test, y_pred_lr)\n",
    "rmse_lr = mean_squared_error(y_test, y_pred_lr, squared=False)\n",
    "\n",
    "print(f\"Multiple Linear Regression - R-squared: {r2_lr}\")\n",
    "print(f\"Multiple Linear Regression - MSE: {mse_lr}\")\n",
    "print(f\"Multiple Linear Regression - RMSE: {rmse_lr}\")\n"
   ]
  },
  {
   "cell_type": "markdown",
   "metadata": {},
   "source": [
    "Implementasi Polynomial Regression"
   ]
  },
  {
   "cell_type": "code",
   "execution_count": 67,
   "metadata": {},
   "outputs": [
    {
     "name": "stdout",
     "output_type": "stream",
     "text": [
      "Polynomial Regression - R-squared: -0.06318744550999056\n",
      "Polynomial Regression - MSE: 1.0182205606416594\n",
      "Polynomial Regression - RMSE: 1.0090691555298177\n"
     ]
    },
    {
     "name": "stderr",
     "output_type": "stream",
     "text": [
      "c:\\Users\\Nitro\\anaconda3\\Lib\\site-packages\\sklearn\\metrics\\_regression.py:492: FutureWarning: 'squared' is deprecated in version 1.4 and will be removed in 1.6. To calculate the root mean squared error, use the function'root_mean_squared_error'.\n",
      "  warnings.warn(\n"
     ]
    }
   ],
   "source": [
    "from sklearn.preprocessing import PolynomialFeatures\n",
    "\n",
    "poly = PolynomialFeatures(degree=2)\n",
    "X_poly = poly.fit_transform(X)\n",
    "X_train_poly, X_test_poly, y_train, y_test = train_test_split(X_poly, y, test_size=0.2, random_state=42)\n",
    "model_poly = LinearRegression()\n",
    "model_poly.fit(X_train_poly, y_train)\n",
    "\n",
    "y_pred_poly = model_poly.predict(X_test_poly)\n",
    "\n",
    "r2_poly = r2_score(y_test, y_pred_poly)\n",
    "mse_poly = mean_squared_error(y_test, y_pred_poly)\n",
    "rmse_poly = mean_squared_error(y_test, y_pred_poly, squared=False)\n",
    "\n",
    "print(f\"Polynomial Regression - R-squared: {r2_poly}\")\n",
    "print(f\"Polynomial Regression - MSE: {mse_poly}\")\n",
    "print(f\"Polynomial Regression - RMSE: {rmse_poly}\")\n"
   ]
  },
  {
   "cell_type": "markdown",
   "metadata": {},
   "source": [
    "Evaluasi model dengan R-squared, RMSE, dan MSE"
   ]
  },
  {
   "cell_type": "code",
   "execution_count": 68,
   "metadata": {},
   "outputs": [
    {
     "name": "stdout",
     "output_type": "stream",
     "text": [
      "Perbandingan Performa Model:\n",
      "Multiple Linear Regression - R-squared: -0.03818624277572469\n",
      "Polynomial Regression - R-squared: -0.06318744550999056\n",
      "Multiple Linear Regression - MSE: 0.994276769006132\n",
      "Polynomial Regression - MSE: 1.0182205606416594\n",
      "Multiple Linear Regression - RMSE: 0.9971342783227002\n",
      "Polynomial Regression - RMSE: 1.0090691555298177\n"
     ]
    }
   ],
   "source": [
    "print(\"Perbandingan Performa Model:\")\n",
    "print(f\"Multiple Linear Regression - R-squared: {r2_lr}\")\n",
    "print(f\"Polynomial Regression - R-squared: {r2_poly}\")\n",
    "\n",
    "print(f\"Multiple Linear Regression - MSE: {mse_lr}\")\n",
    "print(f\"Polynomial Regression - MSE: {mse_poly}\")\n",
    "\n",
    "print(f\"Multiple Linear Regression - RMSE: {rmse_lr}\")\n",
    "print(f\"Polynomial Regression - RMSE: {rmse_poly}\")"
   ]
  },
  {
   "cell_type": "markdown",
   "metadata": {},
   "source": [
    "1. R-squared pada Polynomial Regression lebih tinggi, itu menunjukkan bahwa model Polynomial lebih mampu menjelaskan varians dalam data.\n",
    "2. R-squared pada Multiple Linear Regression lebih rendah, itu menunjukkan bahwa model Multiple Linear Regression kurang mampu menjelaskan varians dalam data."
   ]
  }
 ],
 "metadata": {
  "kernelspec": {
   "display_name": "base",
   "language": "python",
   "name": "python3"
  },
  "language_info": {
   "codemirror_mode": {
    "name": "ipython",
    "version": 3
   },
   "file_extension": ".py",
   "mimetype": "text/x-python",
   "name": "python",
   "nbconvert_exporter": "python",
   "pygments_lexer": "ipython3",
   "version": "3.12.7"
  }
 },
 "nbformat": 4,
 "nbformat_minor": 2
}
